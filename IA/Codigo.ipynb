{
 "cells": [
  {
   "cell_type": "code",
   "execution_count": 37,
   "metadata": {},
   "outputs": [],
   "source": [
    "import pandas as pd\n",
    "from sklearn.cluster import KMeans\n",
    "import matplotlib.pyplot as plt\n",
    "import seaborn as sns\n",
    "from sklearn.metrics import davies_bouldin_score\n",
    "\n"
   ]
  },
  {
   "cell_type": "code",
   "execution_count": 38,
   "metadata": {},
   "outputs": [],
   "source": [
    "archive = pd.read_csv('Iris.csv')\n",
    "archive=archive.drop('class', axis=1)\n",
    "colors = ['#92DCE5', '#F7EC59', '#FF66D8']\n"
   ]
  },
  {
   "cell_type": "code",
   "execution_count": 39,
   "metadata": {},
   "outputs": [
    {
     "data": {
      "text/plain": [
       "(150, 4)"
      ]
     },
     "execution_count": 39,
     "metadata": {},
     "output_type": "execute_result"
    }
   ],
   "source": [
    "archive.shape\n"
   ]
  },
  {
   "cell_type": "code",
   "execution_count": 40,
   "metadata": {},
   "outputs": [
    {
     "data": {
      "text/html": [
       "<div>\n",
       "<style scoped>\n",
       "    .dataframe tbody tr th:only-of-type {\n",
       "        vertical-align: middle;\n",
       "    }\n",
       "\n",
       "    .dataframe tbody tr th {\n",
       "        vertical-align: top;\n",
       "    }\n",
       "\n",
       "    .dataframe thead th {\n",
       "        text-align: right;\n",
       "    }\n",
       "</style>\n",
       "<table border=\"1\" class=\"dataframe\">\n",
       "  <thead>\n",
       "    <tr style=\"text-align: right;\">\n",
       "      <th></th>\n",
       "      <th>sepallength</th>\n",
       "      <th>sepalwidth</th>\n",
       "      <th>petallength</th>\n",
       "      <th>petalwidth</th>\n",
       "    </tr>\n",
       "  </thead>\n",
       "  <tbody>\n",
       "    <tr>\n",
       "      <th>count</th>\n",
       "      <td>150.000000</td>\n",
       "      <td>150.000000</td>\n",
       "      <td>150.000000</td>\n",
       "      <td>150.000000</td>\n",
       "    </tr>\n",
       "    <tr>\n",
       "      <th>mean</th>\n",
       "      <td>5.843333</td>\n",
       "      <td>3.054000</td>\n",
       "      <td>3.758667</td>\n",
       "      <td>1.198667</td>\n",
       "    </tr>\n",
       "    <tr>\n",
       "      <th>std</th>\n",
       "      <td>0.828066</td>\n",
       "      <td>0.433594</td>\n",
       "      <td>1.764420</td>\n",
       "      <td>0.763161</td>\n",
       "    </tr>\n",
       "    <tr>\n",
       "      <th>min</th>\n",
       "      <td>4.300000</td>\n",
       "      <td>2.000000</td>\n",
       "      <td>1.000000</td>\n",
       "      <td>0.100000</td>\n",
       "    </tr>\n",
       "    <tr>\n",
       "      <th>25%</th>\n",
       "      <td>5.100000</td>\n",
       "      <td>2.800000</td>\n",
       "      <td>1.600000</td>\n",
       "      <td>0.300000</td>\n",
       "    </tr>\n",
       "    <tr>\n",
       "      <th>50%</th>\n",
       "      <td>5.800000</td>\n",
       "      <td>3.000000</td>\n",
       "      <td>4.350000</td>\n",
       "      <td>1.300000</td>\n",
       "    </tr>\n",
       "    <tr>\n",
       "      <th>75%</th>\n",
       "      <td>6.400000</td>\n",
       "      <td>3.300000</td>\n",
       "      <td>5.100000</td>\n",
       "      <td>1.800000</td>\n",
       "    </tr>\n",
       "    <tr>\n",
       "      <th>max</th>\n",
       "      <td>7.900000</td>\n",
       "      <td>4.400000</td>\n",
       "      <td>6.900000</td>\n",
       "      <td>2.500000</td>\n",
       "    </tr>\n",
       "  </tbody>\n",
       "</table>\n",
       "</div>"
      ],
      "text/plain": [
       "       sepallength  sepalwidth  petallength  petalwidth\n",
       "count   150.000000  150.000000   150.000000  150.000000\n",
       "mean      5.843333    3.054000     3.758667    1.198667\n",
       "std       0.828066    0.433594     1.764420    0.763161\n",
       "min       4.300000    2.000000     1.000000    0.100000\n",
       "25%       5.100000    2.800000     1.600000    0.300000\n",
       "50%       5.800000    3.000000     4.350000    1.300000\n",
       "75%       6.400000    3.300000     5.100000    1.800000\n",
       "max       7.900000    4.400000     6.900000    2.500000"
      ]
     },
     "execution_count": 40,
     "metadata": {},
     "output_type": "execute_result"
    }
   ],
   "source": [
    "archive.describe()"
   ]
  },
  {
   "cell_type": "code",
   "execution_count": 41,
   "metadata": {},
   "outputs": [
    {
     "name": "stdout",
     "output_type": "stream",
     "text": [
      "     sepallength  sepalwidth  petallength  petalwidth\n",
      "0            5.1         3.5          1.4         0.2\n",
      "1            4.9         3.0          1.4         0.2\n",
      "2            4.7         3.2          1.3         0.2\n",
      "3            4.6         3.1          1.5         0.2\n",
      "4            5.0         3.6          1.4         0.2\n",
      "..           ...         ...          ...         ...\n",
      "145          6.7         3.0          5.2         2.3\n",
      "146          6.3         2.5          5.0         1.9\n",
      "147          6.5         3.0          5.2         2.0\n",
      "148          6.2         3.4          5.4         2.3\n",
      "149          5.9         3.0          5.1         1.8\n",
      "\n",
      "[136 rows x 4 columns]\n"
     ]
    },
    {
     "data": {
      "text/plain": [
       "(136, 4)"
      ]
     },
     "execution_count": 41,
     "metadata": {},
     "output_type": "execute_result"
    }
   ],
   "source": [
    "\n",
    "min_thresold, max_thresold = archive.sepallength.quantile([0.001, 0.999])\n",
    "archive2 = archive[(archive.sepallength<max_thresold) & (archive.sepallength>min_thresold)] \n",
    "\n",
    "\n",
    "\n",
    "min_thresold, max_thresold = archive2.sepalwidth.quantile([0.001, 0.999])\n",
    "archive2 = archive2[(archive2.sepalwidth<max_thresold) & (archive2.sepalwidth>min_thresold)] \n",
    "\n",
    "\n",
    "\n",
    "\n",
    "min_thresold, max_thresold = archive2.petallength.quantile([0.001, 0.999])\n",
    "archive2 = archive2[(archive2.petallength<max_thresold) & (archive2.petallength>min_thresold)] \n",
    "\n",
    "\n",
    "\n",
    "min_thresold, max_thresold = archive2.petalwidth.quantile([0.001, 0.999])\n",
    "archive2 = archive2[(archive2.petalwidth<max_thresold) & (archive2.petalwidth>min_thresold)] \n",
    "print(archive2[(archive2.petalwidth<max_thresold) & (archive2.petalwidth>min_thresold)])\n",
    "\n",
    "\n",
    "archive2.shape\n",
    "\n",
    "\n"
   ]
  },
  {
   "cell_type": "code",
   "execution_count": null,
   "metadata": {},
   "outputs": [],
   "source": [
    "def davies_bouldin(X, labels):\n",
    "    X, labels = check_X_y(X, labels)\n",
    "    le = LabelEncoder()\n",
    "    labels = le.fit_transform(labels)\n",
    "    n_samples, _ = X.shape\n",
    "    n_labels = len(le.classes_)\n",
    "    check_number_of_labels(n_labels, n_samples)\n",
    "\n",
    "    intra_dists = np.zeros(n_labels)\n",
    "    centroids = np.zeros((n_labels, len(X[0])), dtype=float)\n",
    "    for k in range(n_labels):\n",
    "        cluster_k = _safe_indexing(X, labels == k)\n",
    "        centroid = cluster_k.mean(axis=0)\n",
    "        centroids[k] = centroid\n",
    "        intra_dists[k] = np.average(pairwise_distances(cluster_k, [centroid]))\n",
    "\n",
    "    centroid_distances = pairwise_distances(centroids)\n",
    "\n",
    "    if np.allclose(intra_dists, 0) or np.allclose(centroid_distances, 0):\n",
    "        return 0.0\n",
    "\n",
    "    centroid_distances[centroid_distances == 0] = np.inf\n",
    "    combined_intra_dists = intra_dists[:, None] + intra_dists\n",
    "    scores = np.max(combined_intra_dists / centroid_distances, axis=1)\n",
    "    return np.mean(scores)"
   ]
  },
  {
   "cell_type": "code",
   "execution_count": 51,
   "metadata": {},
   "outputs": [
    {
     "name": "stdout",
     "output_type": "stream",
     "text": [
      "0.0728555151488856\n"
     ]
    }
   ],
   "source": [
    "k_means=KMeans(n_clusters=3,random_state=0).fit(archive)\n",
    "davies_bouldin(3,k_means.labels)\n"
   ]
  },
  {
   "cell_type": "code",
   "execution_count": 44,
   "metadata": {},
   "outputs": [
    {
     "name": "stdout",
     "output_type": "stream",
     "text": [
      "0.662322864989869\n"
     ]
    }
   ],
   "source": [
    "#CONTROLE\n",
    "kmeans = KMeans(n_clusters=3, random_state=30)\n",
    "tag = kmeans.fit_predict(archive)\n",
    "CalculoFinal = davies_bouldin_score(archive, tag)\n",
    "print(CalculoFinal)"
   ]
  },
  {
   "cell_type": "code",
   "execution_count": 35,
   "metadata": {},
   "outputs": [],
   "source": [
    "k_means=KMeans(n_clusters=3,random_state=0).fit(archive)\n",
    "k_means.labels_\n",
    "archive['cluster'] = k_means.fit_predict(archive)\n",
    "centroids=k_means.cluster_centers_\n",
    "cen_x=[i[0]for i in centroids]\n",
    "cen_y=[i[1]for i in centroids]\n",
    "archive['cen_x'] = archive.cluster.map({0:cen_x[0], 1:cen_x[1], 2:cen_x[2]})\n",
    "archive['cen_y'] = archive.cluster.map({0:cen_y[0], 1:cen_y[1], 2:cen_y[2]})\n",
    "archive['c'] = archive.cluster.map({0:colors[0], 1:colors[1], 2:colors[2]})"
   ]
  },
  {
   "cell_type": "code",
   "execution_count": 9,
   "metadata": {},
   "outputs": [
    {
     "data": {
      "text/plain": [
       "<matplotlib.collections.PathCollection at 0x2bfdebafb20>"
      ]
     },
     "execution_count": 9,
     "metadata": {},
     "output_type": "execute_result"
    },
    {
     "data": {
      "image/png": "[encoded data removed]",
      "text/plain": [
       "<Figure size 432x288 with 1 Axes>"
      ]
     },
     "metadata": {
      "needs_background": "light"
     },
     "output_type": "display_data"
    }
   ],
   "source": [
    "#print(archive)\n",
    "plt.scatter(archive.petallength,archive.sepallength,c=archive.c)\n"
   ]
  },
  {
   "cell_type": "code",
   "execution_count": 27,
   "metadata": {},
   "outputs": [],
   "source": [
    "array=[]\n",
    "\n",
    "for i in range(1,11):\n",
    "    k_means=KMeans(n_clusters=i,random_state=0).fit(archive)\n",
    "    k_means.labels_   \n",
    "    array.append(k_means.inertia_)"
   ]
  },
  {
   "cell_type": "code",
   "execution_count": null,
   "metadata": {},
   "outputs": [
    {
     "data": {
      "image/png": "[encoded data removed]",
      "text/plain": [
       "<Figure size 432x288 with 1 Axes>"
      ]
     },
     "metadata": {
      "needs_background": "light"
     },
     "output_type": "display_data"
    }
   ],
   "source": [
    "plt.plot(range(1,11),array)\n",
    "plt.title(\"IrisBase\")\n",
    "plt.xlabel(\"Grupos\")\n",
    "plt.ylabel(\"Quantidade\")\n",
    "plt.show()"
   ]
  },
  {
   "cell_type": "code",
   "execution_count": null,
   "metadata": {},
   "outputs": [
    {
     "data": {
      "text/plain": [
       "(4.3, 7.9)"
      ]
     },
     "execution_count": 15,
     "metadata": {},
     "output_type": "execute_result"
    }
   ],
   "source": [
    "archive[\"sepallength\"].min(), archive[\"sepallength\"].max()\n"
   ]
  },
  {
   "cell_type": "code",
   "execution_count": null,
   "metadata": {},
   "outputs": [
    {
     "data": {
      "text/plain": [
       "(2.0, 4.4)"
      ]
     },
     "execution_count": 16,
     "metadata": {},
     "output_type": "execute_result"
    }
   ],
   "source": [
    "archive[\"sepalwidth\"].min(), archive[\"sepalwidth\"].max()"
   ]
  },
  {
   "cell_type": "code",
   "execution_count": null,
   "metadata": {},
   "outputs": [
    {
     "data": {
      "text/plain": [
       "(1.0, 6.9)"
      ]
     },
     "execution_count": 13,
     "metadata": {},
     "output_type": "execute_result"
    }
   ],
   "source": [
    "archive[\"petallength\"].min(), archive[\"petallength\"].max()"
   ]
  },
  {
   "cell_type": "code",
   "execution_count": null,
   "metadata": {},
   "outputs": [
    {
     "data": {
      "text/plain": [
       "(0.1, 2.5)"
      ]
     },
     "execution_count": 14,
     "metadata": {},
     "output_type": "execute_result"
    }
   ],
   "source": [
    "archive[\"petalwidth\"].min(), archive[\"petalwidth\"].max()"
   ]
  },
  {
   "cell_type": "code",
   "execution_count": 32,
   "metadata": {},
   "outputs": [
    {
     "data": {
      "text/plain": [
       "{'whiskers': [<matplotlib.lines.Line2D at 0x2bfe95af700>,\n",
       "  <matplotlib.lines.Line2D at 0x2bfe95af9d0>,\n",
       "  <matplotlib.lines.Line2D at 0x2bfe95d4af0>,\n",
       "  <matplotlib.lines.Line2D at 0x2bfe95d4dc0>,\n",
       "  <matplotlib.lines.Line2D at 0x2bfe95d5ea0>,\n",
       "  <matplotlib.lines.Line2D at 0x2bfe95d6170>,\n",
       "  <matplotlib.lines.Line2D at 0x2bfe95d7250>,\n",
       "  <matplotlib.lines.Line2D at 0x2bfe95d7520>],\n",
       " 'caps': [<matplotlib.lines.Line2D at 0x2bfe95afca0>,\n",
       "  <matplotlib.lines.Line2D at 0x2bfe95aff70>,\n",
       "  <matplotlib.lines.Line2D at 0x2bfe95d5090>,\n",
       "  <matplotlib.lines.Line2D at 0x2bfe95d5360>,\n",
       "  <matplotlib.lines.Line2D at 0x2bfe95d6440>,\n",
       "  <matplotlib.lines.Line2D at 0x2bfe95d6710>,\n",
       "  <matplotlib.lines.Line2D at 0x2bfe95d77f0>,\n",
       "  <matplotlib.lines.Line2D at 0x2bfe95d7ac0>],\n",
       " 'boxes': [<matplotlib.lines.Line2D at 0x2bfe95af550>,\n",
       "  <matplotlib.lines.Line2D at 0x2bfe95d4820>,\n",
       "  <matplotlib.lines.Line2D at 0x2bfe95d5bd0>,\n",
       "  <matplotlib.lines.Line2D at 0x2bfe95d6f80>],\n",
       " 'medians': [<matplotlib.lines.Line2D at 0x2bfe95d4280>,\n",
       "  <matplotlib.lines.Line2D at 0x2bfe95d5630>,\n",
       "  <matplotlib.lines.Line2D at 0x2bfe95d69e0>,\n",
       "  <matplotlib.lines.Line2D at 0x2bfe95d7d90>],\n",
       " 'fliers': [<matplotlib.lines.Line2D at 0x2bfe95d4550>,\n",
       "  <matplotlib.lines.Line2D at 0x2bfe95d5900>,\n",
       "  <matplotlib.lines.Line2D at 0x2bfe95d6cb0>,\n",
       "  <matplotlib.lines.Line2D at 0x2bfe960c0a0>],\n",
       " 'means': []}"
      ]
     },
     "execution_count": 32,
     "metadata": {},
     "output_type": "execute_result"
    },
    {
     "data": {
      "image/png": "[encoded data removed]",
      "text/plain": [
       "<Figure size 576x288 with 1 Axes>"
      ]
     },
     "metadata": {},
     "output_type": "display_data"
    }
   ],
   "source": [
    "plt.boxplot(archive, labels=['sepallength','sepalwidth','petallength','petalwidth'])\n"
   ]
  }
 ],
 "metadata": {
  "interpreter": {
   "hash": "6d0bdb3a7cd7d16d8e9eaf7b41dfef18a394c0c3974ee7fdc591f0f6f2dcc772"
  },
  "kernelspec": {
   "display_name": "Python 3.10.4 64-bit",
   "language": "python",
   "name": "python3"
  },
  "language_info": {
   "codemirror_mode": {
    "name": "ipython",
    "version": 3
   },
   "file_extension": ".py",
   "mimetype": "text/x-python",
   "name": "python",
   "nbconvert_exporter": "python",
   "pygments_lexer": "ipython3",
   "version": "3.10.4"
  },
  "orig_nbformat": 4
 },
 "nbformat": 4,
 "nbformat_minor": 2
}
